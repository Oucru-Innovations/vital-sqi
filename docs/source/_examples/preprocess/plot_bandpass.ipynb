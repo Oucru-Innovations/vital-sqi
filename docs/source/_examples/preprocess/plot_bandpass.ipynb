{
  "cells": [
    {
      "cell_type": "code",
      "execution_count": null,
      "metadata": {
        "collapsed": false
      },
      "outputs": [],
      "source": [
        "%matplotlib inline"
      ]
    },
    {
      "cell_type": "markdown",
      "metadata": {},
      "source": [
        "\n# Filtering (Band pass)\n\nThis example....\n"
      ]
    },
    {
      "cell_type": "code",
      "execution_count": null,
      "metadata": {
        "collapsed": false
      },
      "outputs": [],
      "source": [
        "# General\nimport numpy as np\nimport plotly.graph_objects as go\nfrom plotly.subplots import make_subplots\n\n# vitalSQI\nfrom vital_sqi.common.band_filter import BandpassFilter\n\n\n# -----------------------\n# Load data\n# -----------------------\n# Create samples\nx = np.linspace(-10*np.pi, 10*np.pi, 201)\n\n# Create s\ns = np.sin(30*x)\n\n# -----------------------\n# Apply band pass filter\n# -----------------------\n# Create instances\nbutter_bandpass = BandpassFilter(\"butter\", fs=256)\ncheby_bandpass = BandpassFilter(\"cheby1\", fs=256)\nellip_bandpass = BandpassFilter(\"ellip\", fs=256)\n\n# Apply\nb1 = butter_bandpass.signal_highpass_filter(s, cutoff=1, order=5)\nb2 = butter_bandpass.signal_highpass_filter(s, cutoff=0.8, order=5)\nb3 = butter_bandpass.signal_highpass_filter(s, cutoff=0.6, order=5)\nc1 = cheby_bandpass.signal_highpass_filter(s, cutoff=1, order=5)\ne1 = ellip_bandpass.signal_highpass_filter(s, cutoff=1, order=5)\n\n# ----------------\n# Visualize\n# ----------------\n# Create figure\nfig = make_subplots(rows=7, cols=1,\n    subplot_titles=('Original',\n                    'f=Butter, cutoff 1Hz',\n                    'f=Butter, cutoff 0.8Hz',\n                    'f=Butter, cutoff 0.6Hz',\n                    'f=Butter, cutoff 1Hz',\n                    'f=Cheby1, cutoff 1Hz',\n                    'f=Ellip, cutoff 1Hz'))\n\n# Add traces\nfig.add_trace(go.Scatter(x=x, y=s, name='original'), row=1, col=1)\nfig.add_trace(go.Scatter(x=x, y=b1, name='f=Butter, cutoff 1Hz'), row=2, col=1)\nfig.add_trace(go.Scatter(x=x, y=b2, name='f=Butter, cutoff 0.8Hz'), row=3, col=1)\nfig.add_trace(go.Scatter(x=x, y=b3, name='f=Butter, cutoff 0.6Hz'), row=4, col=1)\n\nfig.add_trace(go.Scatter(x=x, y=b1, name='f=Butter, cutoff 1Hz'), row=5, col=1)\nfig.add_trace(go.Scatter(x=x, y=c1, name='f=Cheby1, cutoff 1Hz'), row=6, col=1)\nfig.add_trace(go.Scatter(x=x, y=e1, name='f=Ellip, cutoff 1Hz'), row=7, col=1)\n\n# Update layout\nfig.update_layout(height=1000,\n                  #width=600,\n                  #title_text=\"Filtering (band pass)\",\n                  legend=dict(\n                      orientation=\"h\",\n                      yanchor=\"bottom\", y=1.02,\n                      xanchor=\"right\", x=1)\n                  )\n\n# Show\nfig"
      ]
    }
  ],
  "metadata": {
    "kernelspec": {
      "display_name": "Python 3",
      "language": "python",
      "name": "python3"
    },
    "language_info": {
      "codemirror_mode": {
        "name": "ipython",
        "version": 3
      },
      "file_extension": ".py",
      "mimetype": "text/x-python",
      "name": "python",
      "nbconvert_exporter": "python",
      "pygments_lexer": "ipython3",
      "version": "3.7.10"
    }
  },
  "nbformat": 4,
  "nbformat_minor": 0
}