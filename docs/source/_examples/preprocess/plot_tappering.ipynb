{
  "cells": [
    {
      "cell_type": "code",
      "execution_count": null,
      "metadata": {
        "collapsed": false
      },
      "outputs": [],
      "source": [
        "%matplotlib inline"
      ]
    },
    {
      "cell_type": "markdown",
      "metadata": {},
      "source": [
        "# Tappering\r\n\r\nThis example \\....\r\n"
      ]
    },
    {
      "cell_type": "code",
      "execution_count": null,
      "metadata": {
        "collapsed": false
      },
      "outputs": [],
      "source": [
        "# General\nimport numpy as np\nimport plotly.graph_objects as go\nfrom plotly.subplots import make_subplots\nimport scipy.signal.windows as wd\n\n# vitalSQI\nfrom vital_sqi import preprocess\n\n# -----------------------\n# Load data\n# -----------------------\n# Create samples\nx = np.linspace(-10*np.pi, 10*np.pi, 201)\n\n# Create signal\ns = np.sin(30*x)\n\n# Initialize hann windows\nw = list(wd.hann(len(s)))\n\n# -----------------------\n# Apply\n# -----------------------\n# The tapering data will pin the first and last part at the zero pivot.\n# The remaining will be scale according to the windows format. The default\n# tapering method shifts the segment by the value equal to the minimum value\n# to the zero baseline set shift_min_to_zero=False\ntap_zerobaseline_t = preprocess.preprocess_signal.taper_signal(s, shift_min_to_zero=False)\n\ntap_zerobaseline_f = preprocess.preprocess_signal.taper_signal(s, shift_min_to_zero=True)\n# Taper data into the zerobaseline to remove the edge effect\n\n# Different windows format can be used to perform tapering process\n# window is imported from the scipy package (scipy.signal.window). Default\n# is using Tukey window\ntap_zerobaseline_w = preprocess.preprocess_signal.taper_signal(s, window=w,\n                                              shift_min_to_zero=False)\n\n# -----------------------\n# Visualize\n# -----------------------\n# Create figure\nfig = make_subplots(rows=4, cols=1,\n    subplot_titles=('Original',\n                    'w=Tukey, shift=False',\n                    'w=Tukey, shift=True'\n                    'w=Hann, shift=False'))\n\n# Add traces\nfig.add_trace(go.Scatter(x=x, y=s, name='original'), row=1, col=1)\nfig.add_trace(go.Scatter(x=x, y=tap_zerobaseline_t, name='w=Tukey, shift=False'), row=2, col=1)\nfig.add_trace(go.Scatter(x=x, y=tap_zerobaseline_f, name='w=Tukey, shift=True'), row=3, col=1)\nfig.add_trace(go.Scatter(x=x, y=tap_zerobaseline_w, name='w=Hann, shift=False'), row=4, col=1)\n\n# Update layout\nfig.update_layout(#height=600,\n                  #width=600,\n                  #title_text=\"Smoothing\",\n                  legend=dict(\n                      orientation=\"h\",\n                      yanchor=\"bottom\", y=1.02,\n                      xanchor=\"right\", x=1)\n                  )\n\n# Show\nfig.show()"
      ]
    }
  ],
  "metadata": {
    "kernelspec": {
      "display_name": "Python 3",
      "language": "python",
      "name": "python3"
    },
    "language_info": {
      "codemirror_mode": {
        "name": "ipython",
        "version": 3
      },
      "file_extension": ".py",
      "mimetype": "text/x-python",
      "name": "python",
      "nbconvert_exporter": "python",
      "pygments_lexer": "ipython3",
      "version": "3.7.13"
    }
  },
  "nbformat": 4,
  "nbformat_minor": 0
}