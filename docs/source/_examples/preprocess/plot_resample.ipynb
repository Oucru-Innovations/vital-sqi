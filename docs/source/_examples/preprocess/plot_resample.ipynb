{
  "cells": [
    {
      "cell_type": "code",
      "execution_count": null,
      "metadata": {
        "collapsed": false
      },
      "outputs": [],
      "source": [
        "%matplotlib inline"
      ]
    },
    {
      "cell_type": "markdown",
      "metadata": {},
      "source": [
        "\n# Resampling\n\nThis example ...\n\n<div class=\"alert alert-danger\"><h4>Warning</h4><p>It does not use any vital_sqi function.</p></div>\n"
      ]
    },
    {
      "cell_type": "code",
      "execution_count": null,
      "metadata": {
        "collapsed": false
      },
      "outputs": [],
      "source": [
        "# General\nfrom scipy import signal\nimport numpy as np\nimport plotly.graph_objects as go\nfrom plotly.subplots import make_subplots\n\n# -----------------------\n# Load data\n# -----------------------\n# Create samples\nx = np.linspace(-10*np.pi, 10*np.pi, 201)\n\n# Create signal\ns = np.sin(30*x)\n\n# -----------------------\n# Apply\n# -----------------------\n# Apply\nexpanded = signal.resample(s, int(len(s) * 2))\nsqueezed = signal.resample(s, int(len(s) / 2))\n\n# -----------------------\n# Visualize\n# -----------------------\n# Create figure\nfig = make_subplots(rows=3, cols=1)\n\n# Add traces\nfig.add_trace(go.Scatter(x=x, y=s, name='original'), row=1, col=1)\nfig.add_trace(go.Scatter(x=x, y=expanded, name='expanded'), row=2, col=1)\nfig.add_trace(go.Scatter(x=x, y=squeezed, name='squeezed'), row=3, col=1)\n\n# Update layout\nfig.update_layout(#height=600,\n                  #width=600,\n                  #title_text=\"Expanded/Squeezed\",\n                  legend=dict(\n                        orientation=\"h\",\n                        yanchor=\"bottom\", y=1.02,\n                        xanchor=\"right\", x=1)\n                  )\n\n# Show\nfig"
      ]
    }
  ],
  "metadata": {
    "kernelspec": {
      "display_name": "Python 3",
      "language": "python",
      "name": "python3"
    },
    "language_info": {
      "codemirror_mode": {
        "name": "ipython",
        "version": 3
      },
      "file_extension": ".py",
      "mimetype": "text/x-python",
      "name": "python",
      "nbconvert_exporter": "python",
      "pygments_lexer": "ipython3",
      "version": "3.7.10"
    }
  },
  "nbformat": 4,
  "nbformat_minor": 0
}