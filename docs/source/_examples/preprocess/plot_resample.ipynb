{
 "cells": [
  {
   "cell_type": "code",
   "execution_count": null,
   "metadata": {
    "collapsed": false
   },
   "outputs": [],
   "source": [
    "%matplotlib inline"
   ]
  },
  {
   "cell_type": "markdown",
   "metadata": {},
   "source": [
    "# Resampling\n",
    "\n"
   ]
  },
  {
   "cell_type": "code",
   "execution_count": null,
   "metadata": {
    "collapsed": false
   },
   "outputs": [],
   "source": [
    "# General\n",
    "from scipy import signal\n",
    "import numpy as np\n",
    "import plotly.graph_objects as go\n",
    "from plotly.subplots import make_subplots\n",
    "\n",
    "# -----------------------\n",
    "# Load data\n",
    "# -----------------------\n",
    "# Create samples\n",
    "x = np.linspace(-10*np.pi, 10*np.pi, 201)\n",
    "\n",
    "# Create signal\n",
    "s = np.sin(30*x)\n",
    "\n",
    "# -----------------------\n",
    "# Apply\n",
    "# -----------------------\n",
    "# Apply\n",
    "expanded = signal.resample(s, int(len(s) * 2))\n",
    "squeezed = signal.resample(s, int(len(s) / 2))\n",
    "\n",
    "# -----------------------\n",
    "# Visualize\n",
    "# -----------------------\n",
    "# Create figure\n",
    "fig = make_subplots(rows=3, cols=1)\n",
    "\n",
    "# Add traces\n",
    "fig.add_trace(go.Scatter(x=x, y=s, name='original'), row=1, col=1)\n",
    "fig.add_trace(go.Scatter(x=x, y=expanded, name='expanded'), row=2, col=1)\n",
    "fig.add_trace(go.Scatter(x=x, y=squeezed, name='squeezed'), row=3, col=1)\n",
    "\n",
    "# Update layout\n",
    "fig.update_layout(#height=600,\n",
    "                  #width=600,\n",
    "                  #title_text=\"Expanded/Squeezed\",\n",
    "                  legend=dict(\n",
    "                        orientation=\"h\",\n",
    "                        yanchor=\"bottom\", y=1.02,\n",
    "                        xanchor=\"right\", x=1)\n",
    "                  )\n",
    "\n",
    "# Show\n",
    "fig"
   ]
  }
 ],
 "metadata": {
  "kernelspec": {
   "display_name": "Python 3",
   "language": "python",
   "name": "python3"
  },
  "language_info": {
   "codemirror_mode": {
    "name": "ipython",
    "version": 3
   },
   "file_extension": ".py",
   "mimetype": "text/x-python",
   "name": "python",
   "nbconvert_exporter": "python",
   "pygments_lexer": "ipython3",
   "version": "3.7.13"
  }
 },
 "nbformat": 4,
 "nbformat_minor": 0
}
