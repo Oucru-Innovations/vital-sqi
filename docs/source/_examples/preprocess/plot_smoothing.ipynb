{
  "cells": [
    {
      "cell_type": "code",
      "execution_count": null,
      "metadata": {
        "collapsed": false
      },
      "outputs": [],
      "source": [
        "%matplotlib inline"
      ]
    },
    {
      "cell_type": "markdown",
      "metadata": {},
      "source": [
        "\n# Smoothing\n\nThis example shows how to apply convolutional window to smooth\nthe signal (the default windows is flat and can be assigned\nwith different distribution)\n"
      ]
    },
    {
      "cell_type": "code",
      "execution_count": null,
      "metadata": {
        "collapsed": false
      },
      "outputs": [],
      "source": [
        "# General\nimport numpy as np\nimport pandas as pd\nimport plotly.graph_objects as go\nfrom plotly.subplots import make_subplots\n\n# vitalSQI\nfrom vital_sqi.preprocess.preprocess_signal import smooth_signal\nfrom vital_sqi.common.utils import generate_timestamp\n\n# -----------------------\n# Load data\n# -----------------------\n# Create samples\nx = np.linspace(-10*np.pi, 10*np.pi, 201)\n\n# Create signal\nsignal = np.sin(30*x)\n# timestamps = generate_timestamp(None,100,len(s))\n# signal = pd.DataFrame(np.hstack((np.array(timestamps).reshape(-1,1),\n#                                  np.array(s).reshape(-1,1))))\n\n\n# -----------------------\n# Apply\n# -----------------------\n# Smoothing\nsmooth1 = smooth_signal(signal)\nsmooth2 = smooth_signal(signal, window_len=9)\n\n# -----------------------\n# Visualize\n# -----------------------\n# Create figure\nfig = make_subplots(rows=3, cols=1)\n\n# Add traces\nfig.add_trace(go.Scatter(x=x, y=signal, name='original'), row=1, col=1)\nfig.add_trace(go.Scatter(x=x, y=smooth1, name='smoothing, length=5'), row=2, col=1)\nfig.add_trace(go.Scatter(x=x, y=smooth2, name='smoothing, length=9'), row=3, col=1)\n\n# Update layout\nfig.update_layout(#height=600,\n                  #width=600,\n                  #title_text=\"Smoothing\",\n                  legend=dict(\n                      orientation=\"h\",\n                      yanchor=\"bottom\", y=1.02,\n                      xanchor=\"right\", x=1)\n                  )\n\n# Show\nfig.show()"
      ]
    }
  ],
  "metadata": {
    "kernelspec": {
      "display_name": "Python 3",
      "language": "python",
      "name": "python3"
    },
    "language_info": {
      "codemirror_mode": {
        "name": "ipython",
        "version": 3
      },
      "file_extension": ".py",
      "mimetype": "text/x-python",
      "name": "python",
      "nbconvert_exporter": "python",
      "pygments_lexer": "ipython3",
      "version": "3.7.10"
    }
  },
  "nbformat": 4,
  "nbformat_minor": 0
}