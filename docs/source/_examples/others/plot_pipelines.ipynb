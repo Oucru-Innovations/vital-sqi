{
  "cells": [
    {
      "cell_type": "code",
      "execution_count": null,
      "metadata": {
        "collapsed": false
      },
      "outputs": [],
      "source": [
        "%matplotlib inline"
      ]
    },
    {
      "cell_type": "markdown",
      "metadata": {},
      "source": [
        "\n# Exploiting Pipelines!\n\nThis example....\n"
      ]
    },
    {
      "cell_type": "markdown",
      "metadata": {},
      "source": [
        "## How pipelines should look like\n\n"
      ]
    },
    {
      "cell_type": "code",
      "execution_count": null,
      "metadata": {
        "collapsed": false
      },
      "outputs": [],
      "source": [
        "# Create steps\n#step1 = Trim(start=5, end=5)\n#step2 = Unchanged(param1=x, param2=y)\n#step3 = LostConnection(param1=20, param2=30)\n\n# .. note: Similar to scikits pipeline which basically loops over\n#          steps and executes for each step the methods .fit and\n#          .transform.\n\n# Create pipeline\n#pipe = Pipeline(steps=[('step1', step1),\n#                       ('step2', step2),\n#                       ('step3', step3))\n\n# Data\n#data = pipe.fit_transform(data)"
      ]
    }
  ],
  "metadata": {
    "kernelspec": {
      "display_name": "Python 3",
      "language": "python",
      "name": "python3"
    },
    "language_info": {
      "codemirror_mode": {
        "name": "ipython",
        "version": 3
      },
      "file_extension": ".py",
      "mimetype": "text/x-python",
      "name": "python",
      "nbconvert_exporter": "python",
      "pygments_lexer": "ipython3",
      "version": "3.7.10"
    }
  },
  "nbformat": 4,
  "nbformat_minor": 0
}