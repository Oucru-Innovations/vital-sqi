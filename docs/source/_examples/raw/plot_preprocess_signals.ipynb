{
  "cells": [
    {
      "cell_type": "code",
      "execution_count": null,
      "metadata": {
        "collapsed": false
      },
      "outputs": [],
      "source": [
        "%matplotlib inline"
      ]
    },
    {
      "cell_type": "markdown",
      "metadata": {},
      "source": [
        "\n# Preprocessing signal\n"
      ]
    },
    {
      "cell_type": "code",
      "execution_count": null,
      "metadata": {
        "collapsed": false
      },
      "outputs": [],
      "source": [
        "import vital_sqi\nfrom vital_sqi.data.signal_io import ECG_reader, PPG_reader\nimport os"
      ]
    },
    {
      "cell_type": "code",
      "execution_count": null,
      "metadata": {
        "collapsed": false
      },
      "outputs": [],
      "source": [
        "### Read an EDF file using ECG_reader\n#The function returns an Signal SQI object and a Dictionary contains the information of the file settings**"
      ]
    },
    {
      "cell_type": "code",
      "execution_count": null,
      "metadata": {
        "collapsed": false
      },
      "outputs": [],
      "source": [
        "from vital_sqi.dataset import load_ecg, load_ppg\n# ecg_data = load_ecg()\nfile_name = os.path.abspath('../../tests/test_data/example.edf')\necg_data = ECG_reader(file_name, 'edf')"
      ]
    },
    {
      "cell_type": "code",
      "execution_count": null,
      "metadata": {
        "collapsed": false
      },
      "outputs": [],
      "source": [
        "ecg_data.info"
      ]
    },
    {
      "cell_type": "code",
      "execution_count": null,
      "metadata": {
        "collapsed": false
      },
      "outputs": [],
      "source": [
        "### List all of the attributes in Signal_SQI object\n#1. signals: a numpy array contains the raw amplitude values of the devices\n#2. sampling_rate: the sampling rate derives from the signal data\n#3. wave_type: the types of signal. Only 2 types are accepted: either 'ecg' or 'ppg'\n#4. sqi_indexes: a list of sqi_indexes"
      ]
    },
    {
      "cell_type": "code",
      "execution_count": null,
      "metadata": {
        "collapsed": false
      },
      "outputs": [],
      "source": [
        "ecg_data.__dict__"
      ]
    },
    {
      "cell_type": "code",
      "execution_count": null,
      "metadata": {
        "collapsed": false
      },
      "outputs": [],
      "source": [
        "all_channels = ecg_data.signals"
      ]
    },
    {
      "cell_type": "code",
      "execution_count": null,
      "metadata": {
        "collapsed": false
      },
      "outputs": [],
      "source": [
        "channel_1 = all_channels.iloc[:, 1]\necg_sample_idx = int(len(all_channels)/2)"
      ]
    },
    {
      "cell_type": "code",
      "execution_count": null,
      "metadata": {
        "collapsed": false
      },
      "outputs": [],
      "source": [
        "ecg_sample_complex_for_tapering = \\\n    channel_1[ecg_sample_idx-45:ecg_sample_idx+210]\necg_sample_complex = channel_1[ecg_sample_idx+80:ecg_sample_idx+225]"
      ]
    },
    {
      "cell_type": "code",
      "execution_count": null,
      "metadata": {
        "collapsed": false
      },
      "outputs": [],
      "source": [
        "import plotly.graph_objects as go\nimport numpy as np"
      ]
    },
    {
      "cell_type": "code",
      "execution_count": null,
      "metadata": {
        "collapsed": false
      },
      "outputs": [],
      "source": [
        "### We will focus on 1 QRS-complex to examine the function"
      ]
    },
    {
      "cell_type": "code",
      "execution_count": null,
      "metadata": {
        "collapsed": false
      },
      "outputs": [],
      "source": [
        "fig = go.Figure()\nfig.add_trace(go.Scatter(x=np.arange(len(ecg_sample_complex)),\n                         y=ecg_sample_complex))\n#fig.show()\nfig"
      ]
    },
    {
      "cell_type": "code",
      "execution_count": null,
      "metadata": {
        "collapsed": false
      },
      "outputs": [],
      "source": [
        "file_name = os.path.abspath('../../tests/test_data/ppg_smartcare.csv')\nppg_data = PPG_reader(file_name,\n                    signal_idx=['PLETH'],\n                    timestamp_idx=['TIMESTAMP_MS'],\n                    info_idx=['PULSE_BPM', 'SPO2_PCT', 'PERFUSION_INDEX'],\n                    sampling_rate=100,\n                    start_datetime='2020/12/30 10:00:00')\n\n# ppg_data = load_ppg()"
      ]
    },
    {
      "cell_type": "code",
      "execution_count": null,
      "metadata": {
        "collapsed": false
      },
      "outputs": [],
      "source": [
        "ppg_data.__dict__"
      ]
    },
    {
      "cell_type": "code",
      "execution_count": null,
      "metadata": {
        "collapsed": false
      },
      "outputs": [],
      "source": [
        "ppg_sample_idx = int(len(ppg_data.signals)/2)"
      ]
    },
    {
      "cell_type": "code",
      "execution_count": null,
      "metadata": {
        "collapsed": false
      },
      "outputs": [],
      "source": [
        "ppg_sample_complex_for_tapering = \\\n    ppg_data.signals.iloc[:, 1][ppg_sample_idx+185:ppg_sample_idx+225]\nppg_sample_complex = ppg_data.signals.iloc[:, 1][\n                     ppg_sample_idx+195:ppg_sample_idx+267]"
      ]
    },
    {
      "cell_type": "code",
      "execution_count": null,
      "metadata": {
        "collapsed": false
      },
      "outputs": [],
      "source": [
        "### Subsequently, we also focus on 1 PPG waveform to examine the function"
      ]
    },
    {
      "cell_type": "code",
      "execution_count": null,
      "metadata": {
        "collapsed": false
      },
      "outputs": [],
      "source": [
        "fig = go.Figure()\nfig.add_trace(go.Scatter(x=np.arange(len(ppg_sample_complex)),\n                         y=ppg_sample_complex))\n#fig.show()\nfig"
      ]
    },
    {
      "cell_type": "code",
      "execution_count": null,
      "metadata": {
        "collapsed": false
      },
      "outputs": [],
      "source": [
        "## Examples on preprocessing function\n#import the preprocess package"
      ]
    },
    {
      "cell_type": "code",
      "execution_count": null,
      "metadata": {
        "collapsed": false
      },
      "outputs": [],
      "source": [
        "from vital_sqi import preprocess"
      ]
    },
    {
      "cell_type": "code",
      "execution_count": null,
      "metadata": {
        "collapsed": false
      },
      "outputs": [],
      "source": [
        "### Taper data into the zerobaseline to remove the edge effect"
      ]
    },
    {
      "cell_type": "code",
      "execution_count": null,
      "metadata": {
        "collapsed": false
      },
      "outputs": [],
      "source": [
        "ecg_sample_tapering_zerobaseline = preprocess.preprocess_signal.taper_signal(\n                                                        ecg_sample_complex,\n                                                        shift_min_to_zero=True)\nppg_sample_tapering_zerobaseline = preprocess.preprocess_signal.taper_signal(\n                                                        ppg_sample_complex,\n                                                        shift_min_to_zero=True)"
      ]
    },
    {
      "cell_type": "code",
      "execution_count": null,
      "metadata": {
        "collapsed": false
      },
      "outputs": [],
      "source": [
        "fig = go.Figure()\nfig.add_trace(go.Scatter(x=np.arange(len(ecg_sample_complex)),\n                         y=ecg_sample_complex,\n                         name='original_signal'))\nfig.add_trace(go.Scatter(x=np.arange(len(ecg_sample_complex)),\n                         y=ecg_sample_tapering_zerobaseline,\n                         name='tapered signal'))\n#fig.show(title='ecg tapering')\nfig\nfig = go.Figure()\nfig.add_trace(go.Scatter(x=np.arange(len(ppg_sample_complex)),\n                         y=ppg_sample_complex,\n                         name='original_signal'))\nfig.add_trace(go.Scatter(x=np.arange(len(ppg_sample_tapering_zerobaseline)),\n                         y=ppg_sample_tapering_zerobaseline,\n                         name='tapered signal'))\n#fig.show()\nfig"
      ]
    },
    {
      "cell_type": "code",
      "execution_count": null,
      "metadata": {
        "collapsed": false
      },
      "outputs": [],
      "source": [
        "### The tapering data will pin the first and last part at the zero pivot. The remaining will be scale according to the windows format\n\n#The default tapering method shifts the segment by the value equal to the minimum value to the zero baseline set shift_min_to_zero=False**"
      ]
    },
    {
      "cell_type": "code",
      "execution_count": null,
      "metadata": {
        "collapsed": false
      },
      "outputs": [],
      "source": [
        "ecg_sample_tapering_zerobaseline = \\\n    preprocess.taper_signal(ecg_sample_complex,shift_min_to_zero=False)\nppg_sample_tapering_zerobaseline = \\\n    preprocess.taper_signal(ppg_sample_complex,shift_min_to_zero=False)"
      ]
    },
    {
      "cell_type": "code",
      "execution_count": null,
      "metadata": {
        "collapsed": false
      },
      "outputs": [],
      "source": [
        "fig = go.Figure()\nfig.add_trace(go.Scatter(x=np.arange(len(ecg_sample_complex)),\n                         y=ecg_sample_complex,\n                         name='original_signal'))\nfig.add_trace(go.Scatter(x=np.arange(len(ecg_sample_complex)),\n                         y=ecg_sample_tapering_zerobaseline,\n                         name='tapered signal'))\n#fig.show(title='ECG')\nfig\nfig = go.Figure()\nfig.add_trace(go.Scatter(x=np.arange(len(ppg_sample_complex)),\n                         y=ppg_sample_complex,\n                         name='original_signal'))\nfig.add_trace(go.Scatter(x=np.arange(len(ppg_sample_complex)),\n                         y=ppg_sample_tapering_zerobaseline,\n                         name='tapered signal'))\n#fig.show(itle='PPG')\nfig"
      ]
    },
    {
      "cell_type": "code",
      "execution_count": null,
      "metadata": {
        "collapsed": false
      },
      "outputs": [],
      "source": [
        "### Different windows format can be used to perform tapering process\n#window is imported from the scipy package (scipy.signal.window). Default is using Tukey window**"
      ]
    },
    {
      "cell_type": "code",
      "execution_count": null,
      "metadata": {
        "collapsed": false
      },
      "outputs": [],
      "source": [
        "import scipy.signal.windows as wd"
      ]
    },
    {
      "cell_type": "code",
      "execution_count": null,
      "metadata": {
        "collapsed": false
      },
      "outputs": [],
      "source": [
        "#Initialize a hann windows and cast it as a list-type.**"
      ]
    },
    {
      "cell_type": "code",
      "execution_count": null,
      "metadata": {
        "collapsed": false
      },
      "outputs": [],
      "source": [
        "window_ecg = list(wd.hann(len(ecg_sample_complex)))\nwindow_ppg = list(wd.hann(len(ppg_sample_complex)))"
      ]
    },
    {
      "cell_type": "code",
      "execution_count": null,
      "metadata": {
        "collapsed": false
      },
      "outputs": [],
      "source": [
        "ecg_sample_tapering_hann = preprocess.taper_signal(ecg_sample_complex,\n                                           window=window_ecg,\n                                           shift_min_to_zero=False)\nppg_sample_tapering_hann = preprocess.taper_signal(ppg_sample_complex,\n                                           window=window_ppg,\n                                           shift_min_to_zero=False)"
      ]
    },
    {
      "cell_type": "code",
      "execution_count": null,
      "metadata": {
        "collapsed": false
      },
      "outputs": [],
      "source": [
        "fig = go.Figure()\nfig.add_trace(go.Scatter(x=np.arange(len(ecg_sample_complex)),\n                         y=ecg_sample_complex,\n                         name='original signal'))\nfig.add_trace(go.Scatter(x=np.arange(len(ecg_sample_complex)),\n                         y=ecg_sample_tapering_zerobaseline,\n                         name='tukey window tapering'))\nfig.add_trace(go.Scatter(x=np.arange(len(ecg_sample_complex)),\n                         y=ecg_sample_tapering_hann,\n                         name='hann window tapering'))\n\nfig.update_layout(\n    title='ECG'\n)\nfig\n\nfig = go.Figure()\nfig.add_trace(go.Scatter(x=np.arange(len(ppg_sample_complex)),\n                         y=ppg_sample_complex,\n                         name='original signal'))\nfig.add_trace(go.Scatter(x=np.arange(len(ppg_sample_complex)),\n                         y=ppg_sample_tapering_zerobaseline,\n                         name='tukey window tapering'))\nfig.add_trace(go.Scatter(x=np.arange(len(ppg_sample_complex)),\n                         y=ppg_sample_tapering_hann,\n                         name='hann window tapering'))\nfig.update_layout(\n    title='PPG'\n)"
      ]
    },
    {
      "cell_type": "code",
      "execution_count": null,
      "metadata": {
        "collapsed": false
      },
      "outputs": [],
      "source": [
        "### Example of smoothing function.\n#Apply a convolutional window to smooth the signal (the default windows is flat and can be assigned with different distribution)**"
      ]
    },
    {
      "cell_type": "code",
      "execution_count": null,
      "metadata": {
        "collapsed": false
      },
      "outputs": [],
      "source": [
        "ecg_sample_smoothing_5 = preprocess.smooth_signal(ecg_sample_complex)\necg_sample_smoothing_9 = preprocess.smooth_signal(ecg_sample_complex,\n                                                  window_len=9)\n\nppg_sample_smoothing_5 = preprocess.smooth_signal(ppg_sample_complex)\nppg_sample_smoothing_9 = preprocess.smooth_signal(ppg_sample_complex,\n                                                  window_len=9)"
      ]
    },
    {
      "cell_type": "code",
      "execution_count": null,
      "metadata": {
        "collapsed": false
      },
      "outputs": [],
      "source": [
        "fig = go.Figure()\nfig.add_trace(go.Scatter(x=np.arange(len(ecg_sample_complex)),\n                         y=ecg_sample_complex,\n                         name='original_signal'))\nfig.add_trace(go.Scatter(x=np.arange(len(ecg_sample_complex)),\n                         y=ecg_sample_smoothing_5,\n                         name='smoothing - sliding window length = 5'))\nfig.add_trace(go.Scatter(x=np.arange(len(ecg_sample_complex)),\n                         y=ecg_sample_smoothing_9,\n                         name='smoothing - sliding window length = 9'))\n#fig.show()\nfig\n\nfig = go.Figure()\nfig.add_trace(go.Scatter(x=np.arange(len(ppg_sample_complex)),\n                         y=ppg_sample_complex,\n                         name='original_signal'))\nfig.add_trace(go.Scatter(x=np.arange(len(ppg_sample_complex)),\n                         y=ppg_sample_smoothing_5,\n                         name='smoothing - sliding window length = 5'))\nfig.add_trace(go.Scatter(x=np.arange(len(ppg_sample_complex)),\n                         y=ppg_sample_smoothing_9,\n                         name='smoothing - sliding window length = 9'))\n#fig.show()\nfig"
      ]
    },
    {
      "cell_type": "code",
      "execution_count": null,
      "metadata": {
        "collapsed": false
      },
      "outputs": [],
      "source": [
        "### Example of squeezing function\n#We will use the default resampling function from scipy package**"
      ]
    },
    {
      "cell_type": "code",
      "execution_count": null,
      "metadata": {
        "collapsed": false
      },
      "outputs": [],
      "source": [
        "from scipy import signal"
      ]
    },
    {
      "cell_type": "code",
      "execution_count": null,
      "metadata": {
        "collapsed": false
      },
      "outputs": [],
      "source": [
        "ecg_sample_squeezing = signal.resample(ecg_sample_complex,\n                                       int(len(ecg_sample_complex)/2))\nppg_sample_squeezing = signal.resample(ppg_sample_complex,\n                                       int(len(ppg_sample_complex)/2))"
      ]
    },
    {
      "cell_type": "code",
      "execution_count": null,
      "metadata": {
        "collapsed": false
      },
      "outputs": [],
      "source": [
        "fig = go.Figure()\nfig.add_trace(go.Scatter(x=np.arange(len(ecg_sample_complex)),\n                         y= ecg_sample_complex))\n#fig.show(title='original data')\nfig\n\nfig = go.Figure()\nfig.add_trace(go.Scatter(x=np.arange(len(ecg_sample_squeezing)),\n                         y= ecg_sample_squeezing))\n#fig.show(title='squeezed data')\nfig"
      ]
    },
    {
      "cell_type": "code",
      "execution_count": null,
      "metadata": {
        "collapsed": false
      },
      "outputs": [],
      "source": [
        "fig = go.Figure()\nfig.add_trace(go.Scatter(x=np.arange(len(ppg_sample_complex)),\n                         y= ppg_sample_complex,))\n#fig.show(title='original data')\nfig\nfig = go.Figure()\nfig.add_trace(go.Scatter(x=np.arange(len(ppg_sample_squeezing)),\n                         y= ppg_sample_squeezing))\n#fig.show(title='squeezed data')\nfig"
      ]
    },
    {
      "cell_type": "code",
      "execution_count": null,
      "metadata": {
        "collapsed": false
      },
      "outputs": [],
      "source": [
        "### Example of expanding function"
      ]
    },
    {
      "cell_type": "code",
      "execution_count": null,
      "metadata": {
        "collapsed": false
      },
      "outputs": [],
      "source": [
        "ecg_sample_expanding = signal.resample(ecg_sample_squeezing,\n                                       int(len(ecg_sample_squeezing)*2))\nppg_sample_expanding = signal.resample(ppg_sample_squeezing,\n                                       int(len(ppg_sample_squeezing)*2))"
      ]
    },
    {
      "cell_type": "code",
      "execution_count": null,
      "metadata": {
        "collapsed": false
      },
      "outputs": [],
      "source": [
        "fig = go.Figure()\nfig.add_trace(go.Scatter(x=np.arange(len(ppg_sample_complex)),\n                         y= ppg_sample_complex,\n                         name=\"original data\"))\n#fig.show(title='original data')\nfig\nfig = go.Figure()\nfig.add_trace(go.Scatter(x=np.arange(len(ppg_sample_expanding)),\n                         y= ppg_sample_expanding,\n                         name=\"the expanded data from the squeezed data\"))\n#fig.show()\nfig"
      ]
    },
    {
      "cell_type": "code",
      "execution_count": null,
      "metadata": {
        "collapsed": false
      },
      "outputs": [],
      "source": [
        "# Example with bandpass filter"
      ]
    },
    {
      "cell_type": "code",
      "execution_count": null,
      "metadata": {
        "collapsed": false
      },
      "outputs": [],
      "source": [
        "from vital_sqi.common.band_filter import BandpassFilter"
      ]
    },
    {
      "cell_type": "code",
      "execution_count": null,
      "metadata": {
        "collapsed": false
      },
      "outputs": [],
      "source": [
        "butter_bandpass = BandpassFilter(\"butter\",fs=256)\ncheby_bandpass = BandpassFilter(\"cheby1\",fs=256)\nellip_bandpass = BandpassFilter(\"ellip\",fs=256)"
      ]
    },
    {
      "cell_type": "code",
      "execution_count": null,
      "metadata": {
        "collapsed": false
      },
      "outputs": [],
      "source": [
        "fig = go.Figure()\nfig.add_trace(go.Scatter(x=np.arange(len(ecg_sample_complex)),\n                         y= ecg_sample_complex,\n                         name='original signal'))\nfig.add_trace(go.Scatter(x=np.arange(len(ecg_sample_complex)),\n                         y= butter_bandpass.signal_highpass_filter(\n    ecg_sample_complex,cutoff=1,order=5),\n                        name='highpass filtered - cutoff 1Hz'))\nfig.add_trace(go.Scatter(x=np.arange(len(ecg_sample_complex)),\n                         y= butter_bandpass.signal_highpass_filter(\n    ecg_sample_complex,cutoff=0.8,order=5),\n                        name='highpass filtered - cutoff 0.8Hz'))\nfig.add_trace(go.Scatter(x=np.arange(len(ecg_sample_complex)),\n                         y= butter_bandpass.signal_highpass_filter(\n    ecg_sample_complex,cutoff=0.6,order=5),\n                        name='highpass filtered - cutoff 0.6Hz'))\n#fig.show()\nfig"
      ]
    },
    {
      "cell_type": "code",
      "execution_count": null,
      "metadata": {
        "collapsed": false
      },
      "outputs": [],
      "source": [
        "fig = go.Figure()\nfig.add_trace(go.Scatter(x=np.arange(len(ppg_sample_complex)),\n                         y= ppg_sample_complex,\n                         name='original signal'))\nfig.add_trace(go.Scatter(x=np.arange(len(ppg_sample_complex)),\n                         y= butter_bandpass.signal_highpass_filter(\n    ppg_sample_complex,cutoff=1,order=5),\n                        name='highpass filtered - cutoff 1Hz'))\nfig.add_trace(go.Scatter(x=np.arange(len(ppg_sample_complex)),\n                         y= butter_bandpass.signal_highpass_filter(\n    ppg_sample_complex,cutoff=0.8,order=5),\n                        name='highpass filtered - cutoff 0.8Hz'))\nfig.add_trace(go.Scatter(x=np.arange(len(ppg_sample_complex)),\n                         y= butter_bandpass.signal_highpass_filter(\n    ppg_sample_complex,cutoff=0.6,order=5),\n                        name='highpass filtered - cutoff 0.6Hz'))\n#fig.show()\nfig"
      ]
    },
    {
      "cell_type": "code",
      "execution_count": null,
      "metadata": {
        "collapsed": false
      },
      "outputs": [],
      "source": [
        "fig = go.Figure()\nfig.add_trace(go.Scatter(x=np.arange(len(ecg_sample_complex)),\n                         y= ecg_sample_complex,name='original signal'))\nfig.add_trace(go.Scatter(x=np.arange(len(ecg_sample_complex)),\n                         y= butter_bandpass.signal_highpass_filter(\n    ecg_sample_complex,cutoff=1,order=5)\n                         ,name='butterworth highpass'))\nfig.add_trace(go.Scatter(x=np.arange(len(ecg_sample_complex)),\n                         y= cheby_bandpass.signal_highpass_filter(\n    ecg_sample_complex,cutoff=1,order=5)\n                        ,name='chebyshev highpass'))\nfig.add_trace(go.Scatter(x=np.arange(len(ecg_sample_complex)),\n                         y= ellip_bandpass.signal_highpass_filter(\n    ecg_sample_complex,cutoff=1,order=5)\n                        ,name='elliptic highpass'))\n#fig.show()\nfig"
      ]
    },
    {
      "cell_type": "code",
      "execution_count": null,
      "metadata": {
        "collapsed": false
      },
      "outputs": [],
      "source": [
        "fig = go.Figure()\nfig.add_trace(go.Scatter(x=np.arange(len(ppg_sample_complex)),\n                         y= ppg_sample_complex,name='original signal'))\nfig.add_trace(go.Scatter(x=np.arange(len(ppg_sample_complex)),\n                         y= butter_bandpass.signal_highpass_filter(\n    ppg_sample_complex,cutoff=1,order=5)\n                         ,name='butterworth highpass'))\nfig.add_trace(go.Scatter(x=np.arange(len(ecg_sample_complex)),\n                         y= cheby_bandpass.signal_highpass_filter(\n    ppg_sample_complex,cutoff=1,order=5)\n                        ,name='chebyshev highpass'))\nfig.add_trace(go.Scatter(x=np.arange(len(ecg_sample_complex)),\n                         y= ellip_bandpass.signal_highpass_filter(\n    ppg_sample_complex,cutoff=1,order=5)\n                        ,name='elliptic highpass'))\n#fig.show()\nfig"
      ]
    }
  ],
  "metadata": {
    "kernelspec": {
      "display_name": "Python 3",
      "language": "python",
      "name": "python3"
    },
    "language_info": {
      "codemirror_mode": {
        "name": "ipython",
        "version": 3
      },
      "file_extension": ".py",
      "mimetype": "text/x-python",
      "name": "python",
      "nbconvert_exporter": "python",
      "pygments_lexer": "ipython3",
      "version": "3.7.10"
    }
  },
  "nbformat": 4,
  "nbformat_minor": 0
}