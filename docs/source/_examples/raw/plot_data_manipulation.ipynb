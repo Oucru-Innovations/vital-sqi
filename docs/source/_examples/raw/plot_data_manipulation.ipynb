{
  "cells": [
    {
      "cell_type": "code",
      "execution_count": null,
      "metadata": {
        "collapsed": false
      },
      "outputs": [],
      "source": [
        "%matplotlib inline"
      ]
    },
    {
      "cell_type": "markdown",
      "metadata": {},
      "source": [
        "\n# Data manipulation\n\n<div class=\"alert alert-info\"><h4>Note</h4><p>This is a copy of the jupyter notebook with the\n          following name: Data_manipulation_ECG_PPG.ipynb.\n          The other option is to use the sphinx extension\n          sphinx-nbexamples.</p></div>\n"
      ]
    },
    {
      "cell_type": "code",
      "execution_count": null,
      "metadata": {
        "collapsed": false
      },
      "outputs": [],
      "source": [
        "import vital_sqi\nfrom vital_sqi.data.signal_io import ECG_reader,PPG_reader\nfrom vital_sqi.dataset import load_ppg,load_ecg\nimport os\nfile_name = os.path.abspath('../../tests/test_data/example.edf')\necg_data = ECG_reader(file_name, 'edf')\n# ecg_data = load_ecg()\nfile_name = os.path.abspath('../../tests/test_data/ppg_smartcare.csv')\nppg_data = PPG_reader(file_name,\n                    signal_idx=['PLETH'],\n                    timestamp_idx=['TIMESTAMP_MS'],\n                    info_idx=['PULSE_BPM', 'SPO2_PCT', 'PERFUSION_INDEX'],\n                    sampling_rate=100,\n                    start_datetime='2020/12/30 10:00:00')\n# ppg_data = load_ppg()"
      ]
    },
    {
      "cell_type": "code",
      "execution_count": null,
      "metadata": {
        "collapsed": false
      },
      "outputs": [],
      "source": [
        "all_channels = ecg_data.signals\nchannel_1 = all_channels.iloc[:, 1]"
      ]
    },
    {
      "cell_type": "code",
      "execution_count": null,
      "metadata": {
        "collapsed": false
      },
      "outputs": [],
      "source": [
        "### Example of splitting the whole data into subsegment using time domain for ECG."
      ]
    },
    {
      "cell_type": "code",
      "execution_count": null,
      "metadata": {
        "collapsed": false
      },
      "outputs": [],
      "source": [
        "import plotly.graph_objects as go\nimport numpy as np\nimport matplotlib.pyplot as plt"
      ]
    },
    {
      "cell_type": "code",
      "execution_count": null,
      "metadata": {
        "collapsed": false
      },
      "outputs": [],
      "source": [
        "print(len(channel_1))"
      ]
    },
    {
      "cell_type": "code",
      "execution_count": null,
      "metadata": {
        "collapsed": false
      },
      "outputs": [],
      "source": [
        "#The whole channel length will be splitted into each 30-second segment"
      ]
    },
    {
      "cell_type": "code",
      "execution_count": null,
      "metadata": {
        "collapsed": false
      },
      "outputs": [],
      "source": [
        "from vital_sqi.data.segment_split import split_to_segments"
      ]
    },
    {
      "cell_type": "code",
      "execution_count": null,
      "metadata": {
        "collapsed": false
      },
      "outputs": [],
      "source": [
        "save_file_name = \"example_file\"\nsave_file_folder = \"subsegments_time\"\nsplit_to_segments(channel_1,\n                  filename=None,\n                  sampling_rate=256,\n                  segment_length_second=10.0,\n                  wave_type=ecg_data.wave_type,\n                  split_type=\"time\",\n                  save_file_folder=save_file_folder)"
      ]
    },
    {
      "cell_type": "code",
      "execution_count": null,
      "metadata": {
        "collapsed": false
      },
      "outputs": [],
      "source": [
        "#The function requires the sampling rate and the defined length (in seconds) of the split segment to calculate the cutting points. User also defined a location to save the output of cut files**\n\n#The split_to_subsegments output the saved segment at the defined save folder. Save files takes the format of \"[file_name]-[segment_number].csv\""
      ]
    },
    {
      "cell_type": "code",
      "execution_count": null,
      "metadata": {
        "collapsed": false
      },
      "outputs": [],
      "source": [
        "print(os.listdir(\"subsegments_time/ecg/\"))"
      ]
    },
    {
      "cell_type": "code",
      "execution_count": null,
      "metadata": {
        "collapsed": false
      },
      "outputs": [],
      "source": [
        "segment_51 = np.loadtxt(\"subsegments_time/ecg/segment-051.csv\")\nsegment_52 = np.loadtxt(\"subsegments_time/ecg/segment-052.csv\")"
      ]
    },
    {
      "cell_type": "code",
      "execution_count": null,
      "metadata": {
        "collapsed": false
      },
      "outputs": [],
      "source": [
        "#Uncomment the plotly code to use interactive plot\n\n# fig = go.Figure()\n# fig.add_trace(go.Scatter(x=np.arange(len(segment_51)),\n#                          y= segment_51,\n#                          name='segment 51'))\n# fig.add_trace(go.Scatter(x=np.arange(len(segment_51),\n#                                      len(segment_51)+len(segment_52)),\n#                          y= segment_52,\n#                          name='segment 52'))\n# fig.show()\n\n\nfig = plt.Figure()\nplt.plot(np.arange(len(segment_51)),\n         segment_51)\nplt.plot(np.arange(len(segment_51),len(segment_51)+len(segment_52)),\n         segment_52)\nplt.show()"
      ]
    },
    {
      "cell_type": "code",
      "execution_count": null,
      "metadata": {
        "collapsed": false
      },
      "outputs": [],
      "source": [
        "### Example of splitting the whole data into subsegment using time domain for PPG."
      ]
    },
    {
      "cell_type": "code",
      "execution_count": null,
      "metadata": {
        "collapsed": false
      },
      "outputs": [],
      "source": [
        "save_file_name = \"example_file\"\nsave_file_folder = \"subsegments_time\"\nif not os.path.exists(save_file_folder):\n    os.makedirs(save_file_folder)\nsplit_to_segments(ppg_data.signals.iloc[:, 1],\n                  filename=None,\n                  sampling_rate=100,\n                  segment_length_second=10.0,\n                  wave_type=ppg_data.wave_type,\n                  split_type=\"time\",\n                  save_file_folder=save_file_folder)"
      ]
    },
    {
      "cell_type": "code",
      "execution_count": null,
      "metadata": {
        "collapsed": false
      },
      "outputs": [],
      "source": [
        "ppg_folder = os.path.join(save_file_folder, \"ppg\")\nfile_list = os.listdir(ppg_folder)\nprint(file_list)"
      ]
    },
    {
      "cell_type": "code",
      "execution_count": null,
      "metadata": {
        "collapsed": false
      },
      "outputs": [],
      "source": [
        "segment_1 = np.loadtxt(os.path.join(ppg_folder, file_list[0]))\nsegment_2 = np.loadtxt(os.path.join(ppg_folder, file_list[0]))"
      ]
    },
    {
      "cell_type": "code",
      "execution_count": null,
      "metadata": {
        "collapsed": false
      },
      "outputs": [],
      "source": [
        "# Uncomment the plotly code to use interactive plot\n# fig = go.Figure()\n# fig.add_trace(go.Scatter(x=np.arange(len(segment_1)),\n#                          y= segment_1,\n#                          name='segment 1'))\n# fig.add_trace(go.Scatter(x=np.arange(len(segment_1),\n#                                      len(segment_1)+len(segment_2)),\n#                          y= segment_2,\n#                          name='segment 2'))\n# fig.show()\n\nfig = plt.Figure()\nplt.plot(np.arange(len(segment_1)),\n         segment_1)\nplt.plot(np.arange(len(segment_1),len(segment_1)+len(segment_2)),\n         segment_2)\nplt.show()"
      ]
    },
    {
      "cell_type": "code",
      "execution_count": null,
      "metadata": {
        "collapsed": false
      },
      "outputs": [],
      "source": [
        "### Example of splitting the whole data into subsegment using frequency domian for ECG.\n\n### Notes on the difference of splitting point as comparing with time domain splitting. Uncomment the plotly code - interactive plot - for better observation"
      ]
    },
    {
      "cell_type": "code",
      "execution_count": null,
      "metadata": {
        "collapsed": false
      },
      "outputs": [],
      "source": [
        "save_file_name = \"example_file\"\nsave_file_folder = \"subsegments_frequency\"\nsplit_to_segments(channel_1,\n                  filename=None,\n                  sampling_rate=256,\n                  segment_length_second=10.0,\n                  split_type=\"peak_interval\",\n                  save_file_folder=save_file_folder)"
      ]
    },
    {
      "cell_type": "code",
      "execution_count": null,
      "metadata": {
        "collapsed": false
      },
      "outputs": [],
      "source": [
        "segment_51 = np.loadtxt(\"subsegments_frequency/ecg/segment-051.csv\")\nsegment_52 = np.loadtxt(\"subsegments_frequency/ecg/segment-052.csv\")"
      ]
    },
    {
      "cell_type": "code",
      "execution_count": null,
      "metadata": {
        "collapsed": false
      },
      "outputs": [],
      "source": [
        "# Uncomment the plotly code to use interactive plot\n# fig = go.Figure()\n# fig.add_trace(go.Scatter(x=np.arange(len(segment_51)),\n#                          y= segment_51,\n#                          name='segment 51'))\n# fig.add_trace(go.Scatter(x=np.arange(len(segment_51),\n#                                      len(segment_51)+len(segment_52)),\n#                          y= segment_52,\n#                          name='segment 52'))\n# fig.show()\n\nfig = plt.Figure()\nplt.plot(np.arange(len(segment_51)),\n         segment_51)\nplt.plot(np.arange(len(segment_51),len(segment_51)+len(segment_52)),\n         segment_52)\nplt.show()"
      ]
    },
    {
      "cell_type": "code",
      "execution_count": null,
      "metadata": {
        "collapsed": false
      },
      "outputs": [],
      "source": [
        "### Example of splitting the whole data into subsegment using frequency domian for PPG."
      ]
    },
    {
      "cell_type": "code",
      "execution_count": null,
      "metadata": {
        "collapsed": false
      },
      "outputs": [],
      "source": [
        "save_file_name = \"example_file\"\nsave_file_folder = \"subsegments_frequency\"\nsplit_to_segments(ppg_data.signals.iloc[:, 0],\n                  filename=None,\n                  sampling_rate=256,\n                  segment_length_second=10.0,\n                  wave_type=ppg_data.wave_type,\n                  split_type=\"peak_interval\",\n                  save_file_folder=save_file_folder)"
      ]
    },
    {
      "cell_type": "code",
      "execution_count": null,
      "metadata": {
        "collapsed": false
      },
      "outputs": [],
      "source": [
        "segment_1 = np.loadtxt(\"subsegments_frequency/ppg/segment-01.csv\")\nsegment_2 = np.loadtxt(\"subsegments_frequency/ppg/segment-02.csv\")"
      ]
    },
    {
      "cell_type": "code",
      "execution_count": null,
      "metadata": {
        "collapsed": false
      },
      "outputs": [],
      "source": [
        "# Uncomment to use interactive plot\n# fig = go.Figure()\n# fig.add_trace(go.Scatter(x=np.arange(len(segment_1)),\n#                          y= segment_1,\n#                          name='segment 1'))\n# fig.add_trace(go.Scatter(x=np.arange(len(segment_1),\n#                                      len(segment_1)+len(segment_2)),\n#                          y= segment_2,\n#                          name='segment 2'))\n# fig.show()\n\nfig = plt.Figure()\nplt.plot(np.arange(len(segment_1)),\n         segment_1)\nplt.plot(np.arange(len(segment_1),len(segment_1)+len(segment_2)),\n         segment_2)\nplt.show()"
      ]
    },
    {
      "cell_type": "code",
      "execution_count": null,
      "metadata": {
        "collapsed": false
      },
      "outputs": [],
      "source": [
        "### Example of trimming the first and the last n-minute data."
      ]
    },
    {
      "cell_type": "code",
      "execution_count": null,
      "metadata": {
        "collapsed": false
      },
      "outputs": [],
      "source": [
        "from vital_sqi.data import trim_data"
      ]
    },
    {
      "cell_type": "code",
      "execution_count": null,
      "metadata": {
        "collapsed": false
      },
      "outputs": [],
      "source": [
        "trimmed_data = trim_data(channel_1,minute_remove=10)"
      ]
    },
    {
      "cell_type": "code",
      "execution_count": null,
      "metadata": {
        "collapsed": false
      },
      "outputs": [],
      "source": [
        "trimmed_data"
      ]
    },
    {
      "cell_type": "code",
      "execution_count": null,
      "metadata": {
        "collapsed": false
      },
      "outputs": [],
      "source": [
        "# fig = go.Figure()\n# fig.add_trace(go.Scatter(x=np.arange(len(channel_1)),\n#                          y= channel_1,\n#                          name='full data'))\n# fig.show()\n\n# fig = go.Figure()\n# fig.add_trace(go.Scatter(x=np.arange(len(trimmed_data)),\n#                          y= trimmed_data,\n#                          name='trimmed data'))\n# fig.show()\n\nfig = plt.Figure()\nplt.plot(np.arange(len(channel_1)),\n         channel_1)\nplt.show()\nplt.plot(np.arange(len(trimmed_data)),\n         trimmed_data, color=u'#ff7f0e')\nplt.show()"
      ]
    },
    {
      "cell_type": "code",
      "execution_count": null,
      "metadata": {
        "collapsed": false
      },
      "outputs": [],
      "source": [
        "#The before and after trimming 5 minutes segment**"
      ]
    },
    {
      "cell_type": "code",
      "execution_count": null,
      "metadata": {
        "collapsed": false
      },
      "outputs": [],
      "source": [
        "trimmed_data_ppg = trim_data(ppg_data.signals.iloc[:, 1], minute_remove=1)"
      ]
    },
    {
      "cell_type": "code",
      "execution_count": null,
      "metadata": {
        "collapsed": false
      },
      "outputs": [],
      "source": [
        "# fig = go.Figure()\n# fig.add_trace(go.Scatter(x=np.arange(len(ppg_data.signals)),\n#                          y= ppg_data.signals,\n#                          name='full data'))\n# fig.show()\n\n# fig = go.Figure()\n# fig.add_trace(go.Scatter(x=np.arange(len(trimmed_data_ppg)),\n#                          y= trimmed_data_ppg,\n#                          name='trimmed data'))\n# fig.show()\n\nfig = plt.Figure()\nplt.plot(np.arange(len(ppg_data.signals.iloc[:, 1])),\n         ppg_data.signals.iloc[:, 1])\nplt.show()\nplt.plot(np.arange(len(trimmed_data_ppg)),\n         trimmed_data_ppg,\n         color=u'#ff7f0e')\nplt.show()"
      ]
    },
    {
      "cell_type": "code",
      "execution_count": null,
      "metadata": {
        "collapsed": false
      },
      "outputs": [],
      "source": [
        "### Example of before and after removing the unchanged value of the n-continuous second."
      ]
    },
    {
      "cell_type": "code",
      "execution_count": null,
      "metadata": {
        "collapsed": false
      },
      "outputs": [],
      "source": [
        "from vital_sqi.data.removal_utilities import remove_unchanged_squences"
      ]
    },
    {
      "cell_type": "code",
      "execution_count": null,
      "metadata": {
        "collapsed": false
      },
      "outputs": [],
      "source": [
        "# create a series of unchanged value in the trimmed_data list\nidx = np.random.randint(int(len(trimmed_data)/2))\nsampling_rate = 256\nunchanged_data = trimmed_data.copy()\nunchanged_data[idx:idx+sampling_rate*20] = max(trimmed_data)"
      ]
    },
    {
      "cell_type": "code",
      "execution_count": null,
      "metadata": {
        "collapsed": false
      },
      "outputs": [],
      "source": [
        "# fig = go.Figure()\n# fig.add_trace(go.Scatter(x=np.arange(len(unchanged_data)),\n#                          y= unchanged_data,\n#                          name='trimmed data'))\n# fig.show()\n\nfig = plt.Figure()\nplt.plot(np.arange(len(unchanged_data)),\n         unchanged_data)\nplt.show()"
      ]
    },
    {
      "cell_type": "code",
      "execution_count": null,
      "metadata": {
        "collapsed": false
      },
      "outputs": [],
      "source": [
        "start_list, end_list = \\\n    remove_unchanged_squences(unchanged_data,\n                              unchanged_seconds=10,\n                              sampling_rate=256,\n                              as_dataframe=False)"
      ]
    },
    {
      "cell_type": "code",
      "execution_count": null,
      "metadata": {
        "collapsed": false
      },
      "outputs": [],
      "source": [
        "# fig = go.Figure()\n# for start,end in zip(start_list,end_list):\n#     fig.add_trace(go.Scatter(x=np.arange(start,end),\n#                              y= unchanged_data[start:end],\n#                              name='trimmed data'))\n# fig.show()\n\nfig = plt.Figure()\nfor start, end in zip(start_list, end_list):\n    plt.plot(np.arange(start, end),\n         unchanged_data[start:end])\nplt.show()"
      ]
    },
    {
      "cell_type": "code",
      "execution_count": null,
      "metadata": {
        "collapsed": false
      },
      "outputs": [],
      "source": [
        "### Example of removing invalid signal data (signal = 0 and other vital signs exceed the normal range)"
      ]
    },
    {
      "cell_type": "code",
      "execution_count": null,
      "metadata": {
        "collapsed": false
      },
      "outputs": [],
      "source": [
        "from vital_sqi.data import remove_invalid"
      ]
    },
    {
      "cell_type": "code",
      "execution_count": null,
      "metadata": {
        "collapsed": false
      },
      "outputs": [],
      "source": [
        "trimmed_data = trim_data(channel_1, minute_remove=10)\nerror_data = trimmed_data.copy()"
      ]
    },
    {
      "cell_type": "code",
      "execution_count": null,
      "metadata": {
        "collapsed": false
      },
      "outputs": [],
      "source": [
        "# create a series of unchanged value in the trimmed_data list\nidx = np.random.randint(int(len(error_data)/2))\nsampling_rate = 256\nerror_data[idx:idx+sampling_rate*20] = 0"
      ]
    },
    {
      "cell_type": "code",
      "execution_count": null,
      "metadata": {
        "collapsed": false
      },
      "outputs": [],
      "source": [
        "start_list, end_list = remove_invalid(error_data,as_dataframe=False)"
      ]
    },
    {
      "cell_type": "code",
      "execution_count": null,
      "metadata": {
        "collapsed": false
      },
      "outputs": [],
      "source": [
        "# fig = go.Figure()\n# for start,end in zip(start_list,end_list):\n#     fig.add_trace(go.Scatter(x= np.arange(start,end),\n#                              y= trimmed_data[start:end],\n#                              name='trimmed data'))\n# fig.show()\nfig = plt.Figure()\nfor start,end in zip(start_list,end_list):\n    plt.plot(np.arange(start,end),\n         trimmed_data[start:end])\nplt.show()"
      ]
    },
    {
      "cell_type": "code",
      "execution_count": null,
      "metadata": {
        "collapsed": false
      },
      "outputs": [],
      "source": [
        "### One example of removing invalid signal data using the frequency domain"
      ]
    },
    {
      "cell_type": "code",
      "execution_count": null,
      "metadata": {
        "collapsed": false
      },
      "outputs": [],
      "source": [
        "from vital_sqi.data import cut_by_frequency_partition"
      ]
    },
    {
      "cell_type": "code",
      "execution_count": null,
      "metadata": {
        "collapsed": false
      },
      "outputs": [],
      "source": [
        "start_list, end_list = \\\n    cut_by_frequency_partition(trimmed_data,\n                              window_size=30000,\n                              peak_threshold_ratio=4,\n                              lower_bound_threshold=2)"
      ]
    },
    {
      "cell_type": "code",
      "execution_count": null,
      "metadata": {
        "collapsed": false
      },
      "outputs": [],
      "source": [
        "#Welch method is applied for the whole data to obtain the common frequency component.**\n\n#*After that, a scanning window with the size of 3000 samples is computed for each subsegment to analyse its frequency component.**\n#Any windows having its component exceeds the peak_threshold_ratio (the ratio between the number of subsegment's components and the number of whole data components) will be removed.**"
      ]
    },
    {
      "cell_type": "code",
      "execution_count": null,
      "metadata": {
        "collapsed": false
      },
      "outputs": [],
      "source": [
        "# fig = go.Figure()\n# for start,end in zip(start_list,end_list):\n#     fig.add_trace(go.Scatter(x= np.arange(start,end),\n#                              y= trimmed_data[start:end],\n#                              name='trimmed data'))\n# fig.show()\n\nfig = plt.Figure()\nplt.plot(np.arange(len(trimmed_data)),\n         trimmed_data)\nplt.show()\n\n\nfig = plt.Figure()\nfor start,end in zip(start_list,end_list):\n    plt.plot(np.arange(start,end),\n         trimmed_data[start:end])\nplt.show()"
      ]
    },
    {
      "cell_type": "code",
      "execution_count": null,
      "metadata": {
        "collapsed": false
      },
      "outputs": [],
      "source": [
        "out = PPG_reader(os.path.join(os.getcwd(),'../../', 'tests/test_data/ppg_smartcare.csv'),\n                 timestamp_idx = ['TIMESTAMP_MS'], signal_idx = ['PLETH'],\n                 info_idx = ['PULSE_BPM','SPO2_PCT','PERFUSION_INDEX'])"
      ]
    },
    {
      "cell_type": "code",
      "execution_count": null,
      "metadata": {
        "collapsed": false
      },
      "outputs": [],
      "source": [
        "start_list, end_list = \\\n    cut_by_frequency_partition(ppg_data.signals.iloc[:, 1],\n                              window_size=30000,\n                              peak_threshold_ratio=2,\n                              lower_bound_threshold=2)"
      ]
    },
    {
      "cell_type": "code",
      "execution_count": null,
      "metadata": {
        "collapsed": false
      },
      "outputs": [],
      "source": [
        "# fig = go.Figure()\n# for start,end in zip(start_list,end_list):\n#     fig.add_trace(go.Scatter(x= np.arange(start,end),\n#                              y= ppg_data.signals[start:end],\n#                              name='trimmed data'))\n# fig.show()\nfig = plt.Figure()\nplt.plot(np.arange(len(ppg_data.signals.iloc[:, 1])),\n         ppg_data.signals.iloc[:, 1])\nplt.show()\n\n# .. note gives an error\n#fig = plt.Figure()\n#for start,end in zip(start_list,end_list):\n#    plt.plot(np.arange(start,end),\n#         ppg_data.signals[start:end])\n#plt.show()"
      ]
    }
  ],
  "metadata": {
    "kernelspec": {
      "display_name": "Python 3",
      "language": "python",
      "name": "python3"
    },
    "language_info": {
      "codemirror_mode": {
        "name": "ipython",
        "version": 3
      },
      "file_extension": ".py",
      "mimetype": "text/x-python",
      "name": "python",
      "nbconvert_exporter": "python",
      "pygments_lexer": "ipython3",
      "version": "3.7.10"
    }
  },
  "nbformat": 4,
  "nbformat_minor": 0
}