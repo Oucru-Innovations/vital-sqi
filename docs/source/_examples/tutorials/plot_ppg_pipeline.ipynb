{
  "cells": [
    {
      "cell_type": "code",
      "execution_count": null,
      "metadata": {
        "collapsed": false
      },
      "outputs": [],
      "source": [
        "%matplotlib inline"
      ]
    },
    {
      "cell_type": "markdown",
      "metadata": {},
      "source": [
        "# PPG pipeline\r\n\r\n::: warning\r\n::: title\r\nWarning\r\n:::\r\n\r\nInclude code to show how to create a pipeline to clean an ecg signal. It\r\nis probably in one of the jupyter notebooks (maybe ecg_qc.ipynb).\r\n:::\r\n"
      ]
    },
    {
      "cell_type": "markdown",
      "metadata": {},
      "source": [
        "# Load the data\r\n"
      ]
    },
    {
      "cell_type": "code",
      "execution_count": null,
      "metadata": {
        "collapsed": false
      },
      "outputs": [],
      "source": [
        "# First, lets load the data (ppg sample data)\n\n# Libraries\nimport pandas as pd\n\n# Load data\n#data = pd.read_csv(path)"
      ]
    },
    {
      "cell_type": "markdown",
      "metadata": {},
      "source": [
        "# Preprocessing\r\n\r\nWearable devices need some time to pick up stable signals. For this\r\nreason, it is a common practice to trim the data. In the following\r\nexample, the f first and last 5 minutes of each recording are trimmed to\r\nexclude unstable signals.\r\n"
      ]
    },
    {
      "cell_type": "code",
      "execution_count": null,
      "metadata": {
        "collapsed": false
      },
      "outputs": [],
      "source": [
        "# Trim data\n#data = trim(data, start=5, end=5)"
      ]
    },
    {
      "cell_type": "markdown",
      "metadata": {},
      "source": [
        "Now, lets remove the following noise:\r\n\r\n> -   `PLETH` is 0 or unchanged values for xxx time\r\n> -   `SpO2` \\< 80\r\n> -   `Pulse` \\> 200 bpm or `Pulse` \\< 40 bpm\r\n> -   `Perfusion` \\< 0.2\r\n> -   `Lost connection`: sampling rate reduced due to (possible)\r\n>     Bluetooth connection lost. Timestamp column shows missing\r\n>     timepoints. If the missing duration is larger than 1 cycle (xxx\r\n>     ms), recording is split. If not, missing timepoints are\r\n>     interpolated.\r\n"
      ]
    },
    {
      "cell_type": "code",
      "execution_count": null,
      "metadata": {
        "collapsed": false
      },
      "outputs": [],
      "source": [
        "# Remove invalid PLETH\n#idxs_1 = data.PLETH == 0\n#idxs_2 = unchanged(period=xxxx)\n#data = data[~(idxs_1 | idxs_2)]\n\n# Remove invalid ranges\n#data = data[data.SpO2>=80]\n#data = data[data.Pulse.between(40, 200)]\n#data = data[data.Perfusion>=0.2]\n\n# Remove lost connection\n#data = data[lost_connection(min_fs, max_fs) ??\n\n# The recording is then split into files."
      ]
    },
    {
      "cell_type": "markdown",
      "metadata": {},
      "source": [
        "Lets filter the data with a band pass filter; high pass filter (cut off\r\nat 1Hz)\r\n"
      ]
    },
    {
      "cell_type": "markdown",
      "metadata": {},
      "source": [
        "Lets detrend the signal\r\n"
      ]
    },
    {
      "cell_type": "code",
      "execution_count": null,
      "metadata": {
        "collapsed": false
      },
      "outputs": [],
      "source": [
        "# Lets split the data\n#4.1. Cut data by time domain. Split data into sub segments of 30 seconds\n#4.2. Apply the peak and trough detection methods in peak_approaches.py to get single PPG cycles in each segment\n#4.3. Shift baseline above 0 and tapering each single PPG cycle to compute the mean template\n#Notes: the described process is implemented in split_to_segments.py"
      ]
    },
    {
      "cell_type": "markdown",
      "metadata": {},
      "source": [
        "# SQI scores\r\n\r\nLets compute the SQI scores\r\n"
      ]
    },
    {
      "cell_type": "markdown",
      "metadata": {},
      "source": [
        "# Visualization\r\n"
      ]
    }
  ],
  "metadata": {
    "kernelspec": {
      "display_name": "Python 3",
      "language": "python",
      "name": "python3"
    },
    "language_info": {
      "codemirror_mode": {
        "name": "ipython",
        "version": 3
      },
      "file_extension": ".py",
      "mimetype": "text/x-python",
      "name": "python",
      "nbconvert_exporter": "python",
      "pygments_lexer": "ipython3",
      "version": "3.7.13"
    }
  },
  "nbformat": 4,
  "nbformat_minor": 0
}