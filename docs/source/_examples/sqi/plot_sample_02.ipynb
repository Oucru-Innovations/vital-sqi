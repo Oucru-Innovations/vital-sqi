{
  "cells": [
    {
      "cell_type": "code",
      "execution_count": null,
      "metadata": {
        "collapsed": false
      },
      "outputs": [],
      "source": [
        "%matplotlib inline"
      ]
    },
    {
      "cell_type": "markdown",
      "metadata": {},
      "source": [
        "# Sample 02\r\n\r\nThis examples computes the three most basic standard SQIs (kurtosis,\r\nskewness and entropy). In addition, it shows the code and explains it in\r\ndifferent sections. This is similar to jupyter notebook. It is just an\r\nexample.\r\n\r\n::: warning\r\n::: title\r\nWarning\r\n:::\r\n\r\nThe `dtw` module seems to be loaded even though we are not really using\r\nit. Instead, load it only when required.\r\n:::\r\n"
      ]
    },
    {
      "cell_type": "markdown",
      "metadata": {},
      "source": [
        "# Main\r\n"
      ]
    },
    {
      "cell_type": "markdown",
      "metadata": {},
      "source": [
        "First, lets import the required libraries\r\n"
      ]
    },
    {
      "cell_type": "code",
      "execution_count": null,
      "metadata": {
        "collapsed": false
      },
      "outputs": [],
      "source": [
        "# Libraries generic\nimport numpy as np\nimport pandas as pd\n\n# Libraries specific\nfrom vital_sqi.sqi.standard_sqi import perfusion_sqi\nfrom vital_sqi.sqi.standard_sqi import kurtosis_sqi\nfrom vital_sqi.sqi.standard_sqi import skewness_sqi\nfrom vital_sqi.sqi.standard_sqi import entropy_sqi\nfrom vital_sqi.sqi.standard_sqi import signal_to_noise_sqi"
      ]
    },
    {
      "cell_type": "markdown",
      "metadata": {},
      "source": [
        "Lets create the sinusoide\r\n"
      ]
    },
    {
      "cell_type": "code",
      "execution_count": null,
      "metadata": {
        "collapsed": false
      },
      "outputs": [],
      "source": [
        "# Create samples\nx = np.linspace(-10*np.pi, 10*np.pi, 201)\n\n# Create signal\nsignal = np.sin(x)"
      ]
    },
    {
      "cell_type": "markdown",
      "metadata": {},
      "source": [
        "Lets compute the SQIs\r\n"
      ]
    },
    {
      "cell_type": "code",
      "execution_count": null,
      "metadata": {
        "collapsed": false
      },
      "outputs": [],
      "source": [
        "# Loop computing sqis\nk = kurtosis_sqi(signal)\ns = skewness_sqi(signal)\ne = entropy_sqi(signal)"
      ]
    },
    {
      "cell_type": "markdown",
      "metadata": {},
      "source": [
        "Lets display the result\r\n"
      ]
    },
    {
      "cell_type": "code",
      "execution_count": null,
      "metadata": {
        "collapsed": false
      },
      "outputs": [],
      "source": [
        "# Create Series\nresult = pd.Series(\n    data=[k, s, e],\n    index=['kurtosis', 'skewness', 'entropy']\n)\n\n# Show\nprint(\"\\nResult:\")\nprint(result)"
      ]
    },
    {
      "cell_type": "markdown",
      "metadata": {},
      "source": [
        "# Plot\r\n\r\nLets plot something so it shows a thumbicon\r\n"
      ]
    },
    {
      "cell_type": "code",
      "execution_count": null,
      "metadata": {
        "collapsed": false
      },
      "outputs": [],
      "source": [
        "# ---------------\n# Create plot\n# ---------------\n# Library\nimport matplotlib.pyplot as plt\n\n# Plot\nplt.plot(x, signal)\n\n# Show\nplt.show()"
      ]
    }
  ],
  "metadata": {
    "kernelspec": {
      "display_name": "Python 3",
      "language": "python",
      "name": "python3"
    },
    "language_info": {
      "codemirror_mode": {
        "name": "ipython",
        "version": 3
      },
      "file_extension": ".py",
      "mimetype": "text/x-python",
      "name": "python",
      "nbconvert_exporter": "python",
      "pygments_lexer": "ipython3",
      "version": "3.7.13"
    }
  },
  "nbformat": 4,
  "nbformat_minor": 0
}